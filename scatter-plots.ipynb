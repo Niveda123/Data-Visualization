{
 "cells": [
  {
   "cell_type": "markdown",
   "id": "df98fe67",
   "metadata": {
    "papermill": {
     "duration": 0.009943,
     "end_time": "2022-10-15T09:43:55.849624",
     "exception": false,
     "start_time": "2022-10-15T09:43:55.839681",
     "status": "completed"
    },
    "tags": []
   },
   "source": [
    "**This notebook is an exercise in the [Data Visualization](https://www.kaggle.com/learn/data-visualization) course.  You can reference the tutorial at [this link](https://www.kaggle.com/alexisbcook/scatter-plots).**\n",
    "\n",
    "---\n"
   ]
  },
  {
   "cell_type": "markdown",
   "id": "5f1e8d7e",
   "metadata": {
    "papermill": {
     "duration": 0.008064,
     "end_time": "2022-10-15T09:43:55.866511",
     "exception": false,
     "start_time": "2022-10-15T09:43:55.858447",
     "status": "completed"
    },
    "tags": []
   },
   "source": [
    "In this exercise, you will use your new knowledge to propose a solution to a real-world scenario.  To succeed, you will need to import data into Python, answer questions using the data, and generate **scatter plots** to understand patterns in the data.\n",
    "\n",
    "## Scenario\n",
    "\n",
    "You work for a major candy producer, and your goal is to write a report that your company can use to guide the design of its next product.  Soon after starting your research, you stumble across this [very interesting dataset](https://fivethirtyeight.com/features/the-ultimate-halloween-candy-power-ranking/) containing results from a fun survey to crowdsource favorite candies.\n",
    "\n",
    "## Setup\n",
    "\n",
    "Run the next cell to import and configure the Python libraries that you need to complete the exercise."
   ]
  },
  {
   "cell_type": "code",
   "execution_count": 1,
   "id": "93f45e12",
   "metadata": {
    "execution": {
     "iopub.execute_input": "2022-10-15T09:43:55.885694Z",
     "iopub.status.busy": "2022-10-15T09:43:55.884998Z",
     "iopub.status.idle": "2022-10-15T09:43:56.855539Z",
     "shell.execute_reply": "2022-10-15T09:43:56.854391Z"
    },
    "papermill": {
     "duration": 0.983547,
     "end_time": "2022-10-15T09:43:56.858562",
     "exception": false,
     "start_time": "2022-10-15T09:43:55.875015",
     "status": "completed"
    },
    "tags": []
   },
   "outputs": [
    {
     "name": "stdout",
     "output_type": "stream",
     "text": [
      "Setup Complete\n"
     ]
    }
   ],
   "source": [
    "import pandas as pd\n",
    "pd.plotting.register_matplotlib_converters()\n",
    "import matplotlib.pyplot as plt\n",
    "%matplotlib inline\n",
    "import seaborn as sns\n",
    "print(\"Setup Complete\")"
   ]
  },
  {
   "cell_type": "markdown",
   "id": "733d7f53",
   "metadata": {
    "papermill": {
     "duration": 0.008372,
     "end_time": "2022-10-15T09:43:56.876153",
     "exception": false,
     "start_time": "2022-10-15T09:43:56.867781",
     "status": "completed"
    },
    "tags": []
   },
   "source": [
    "The questions below will give you feedback on your work. Run the following cell to set up our feedback system."
   ]
  },
  {
   "cell_type": "code",
   "execution_count": 2,
   "id": "4981b9ec",
   "metadata": {
    "execution": {
     "iopub.execute_input": "2022-10-15T09:43:56.895088Z",
     "iopub.status.busy": "2022-10-15T09:43:56.894697Z",
     "iopub.status.idle": "2022-10-15T09:43:56.950847Z",
     "shell.execute_reply": "2022-10-15T09:43:56.949145Z"
    },
    "papermill": {
     "duration": 0.068566,
     "end_time": "2022-10-15T09:43:56.953299",
     "exception": false,
     "start_time": "2022-10-15T09:43:56.884733",
     "status": "completed"
    },
    "tags": []
   },
   "outputs": [
    {
     "name": "stdout",
     "output_type": "stream",
     "text": [
      "Setup Complete\n"
     ]
    }
   ],
   "source": [
    "# Set up code checking\n",
    "import os\n",
    "if not os.path.exists(\"../input/candy.csv\"):\n",
    "    os.symlink(\"../input/data-for-datavis/candy.csv\", \"../input/candy.csv\") \n",
    "from learntools.core import binder\n",
    "binder.bind(globals())\n",
    "from learntools.data_viz_to_coder.ex4 import *\n",
    "print(\"Setup Complete\")"
   ]
  },
  {
   "cell_type": "markdown",
   "id": "6cbb54ad",
   "metadata": {
    "papermill": {
     "duration": 0.008161,
     "end_time": "2022-10-15T09:43:56.971746",
     "exception": false,
     "start_time": "2022-10-15T09:43:56.963585",
     "status": "completed"
    },
    "tags": []
   },
   "source": [
    "## Step 1: Load the Data\n",
    "\n",
    "Read the candy data file into `candy_data`.  Use the `\"id\"` column to label the rows."
   ]
  },
  {
   "cell_type": "code",
   "execution_count": 3,
   "id": "d810b25c",
   "metadata": {
    "execution": {
     "iopub.execute_input": "2022-10-15T09:43:56.990469Z",
     "iopub.status.busy": "2022-10-15T09:43:56.990060Z",
     "iopub.status.idle": "2022-10-15T09:43:57.006189Z",
     "shell.execute_reply": "2022-10-15T09:43:57.004788Z"
    },
    "papermill": {
     "duration": 0.028461,
     "end_time": "2022-10-15T09:43:57.008749",
     "exception": false,
     "start_time": "2022-10-15T09:43:56.980288",
     "status": "completed"
    },
    "tags": []
   },
   "outputs": [
    {
     "data": {
      "application/javascript": [
       "parent.postMessage({\"jupyterEvent\": \"custom.exercise_interaction\", \"data\": {\"outcomeType\": 1, \"valueTowardsCompletion\": 0.3333333333333333, \"interactionType\": 1, \"questionType\": 1, \"questionId\": \"1_LoadData\", \"learnToolsVersion\": \"0.3.4\", \"failureMessage\": \"\", \"exceptionClass\": \"\", \"trace\": \"\"}}, \"*\")"
      ],
      "text/plain": [
       "<IPython.core.display.Javascript object>"
      ]
     },
     "metadata": {},
     "output_type": "display_data"
    },
    {
     "data": {
      "text/markdown": [
       "<span style=\"color:#33cc33\">Correct</span>"
      ],
      "text/plain": [
       "Correct"
      ]
     },
     "metadata": {},
     "output_type": "display_data"
    }
   ],
   "source": [
    "# Path of the file to read\n",
    "candy_filepath = \"../input/candy.csv\"\n",
    "\n",
    "# Fill in the line below to read the file into a variable candy_data\n",
    "candy_data = pd.read_csv(candy_filepath, index_col=\"id\")\n",
    "\n",
    "# Run the line below with no changes to check that you've loaded the data correctly\n",
    "step_1.check()"
   ]
  },
  {
   "cell_type": "code",
   "execution_count": 4,
   "id": "4c1b5dbd",
   "metadata": {
    "execution": {
     "iopub.execute_input": "2022-10-15T09:43:57.028419Z",
     "iopub.status.busy": "2022-10-15T09:43:57.028005Z",
     "iopub.status.idle": "2022-10-15T09:43:57.032426Z",
     "shell.execute_reply": "2022-10-15T09:43:57.031266Z"
    },
    "papermill": {
     "duration": 0.017211,
     "end_time": "2022-10-15T09:43:57.034835",
     "exception": false,
     "start_time": "2022-10-15T09:43:57.017624",
     "status": "completed"
    },
    "tags": []
   },
   "outputs": [],
   "source": [
    "# Lines below will give you a hint or solution code\n",
    "#step_1.hint()\n",
    "#step_1.solution()"
   ]
  },
  {
   "cell_type": "markdown",
   "id": "a86b2b56",
   "metadata": {
    "papermill": {
     "duration": 0.008452,
     "end_time": "2022-10-15T09:43:57.052179",
     "exception": false,
     "start_time": "2022-10-15T09:43:57.043727",
     "status": "completed"
    },
    "tags": []
   },
   "source": [
    "## Step 2: Review the data\n",
    "\n",
    "Use a Python command to print the first five rows of the data."
   ]
  },
  {
   "cell_type": "code",
   "execution_count": 5,
   "id": "d5b7d1c3",
   "metadata": {
    "execution": {
     "iopub.execute_input": "2022-10-15T09:43:57.071724Z",
     "iopub.status.busy": "2022-10-15T09:43:57.071337Z",
     "iopub.status.idle": "2022-10-15T09:43:57.093085Z",
     "shell.execute_reply": "2022-10-15T09:43:57.092141Z"
    },
    "papermill": {
     "duration": 0.034275,
     "end_time": "2022-10-15T09:43:57.095345",
     "exception": false,
     "start_time": "2022-10-15T09:43:57.061070",
     "status": "completed"
    },
    "tags": []
   },
   "outputs": [
    {
     "data": {
      "text/html": [
       "<div>\n",
       "<style scoped>\n",
       "    .dataframe tbody tr th:only-of-type {\n",
       "        vertical-align: middle;\n",
       "    }\n",
       "\n",
       "    .dataframe tbody tr th {\n",
       "        vertical-align: top;\n",
       "    }\n",
       "\n",
       "    .dataframe thead th {\n",
       "        text-align: right;\n",
       "    }\n",
       "</style>\n",
       "<table border=\"1\" class=\"dataframe\">\n",
       "  <thead>\n",
       "    <tr style=\"text-align: right;\">\n",
       "      <th></th>\n",
       "      <th>competitorname</th>\n",
       "      <th>chocolate</th>\n",
       "      <th>fruity</th>\n",
       "      <th>caramel</th>\n",
       "      <th>peanutyalmondy</th>\n",
       "      <th>nougat</th>\n",
       "      <th>crispedricewafer</th>\n",
       "      <th>hard</th>\n",
       "      <th>bar</th>\n",
       "      <th>pluribus</th>\n",
       "      <th>sugarpercent</th>\n",
       "      <th>pricepercent</th>\n",
       "      <th>winpercent</th>\n",
       "    </tr>\n",
       "    <tr>\n",
       "      <th>id</th>\n",
       "      <th></th>\n",
       "      <th></th>\n",
       "      <th></th>\n",
       "      <th></th>\n",
       "      <th></th>\n",
       "      <th></th>\n",
       "      <th></th>\n",
       "      <th></th>\n",
       "      <th></th>\n",
       "      <th></th>\n",
       "      <th></th>\n",
       "      <th></th>\n",
       "      <th></th>\n",
       "    </tr>\n",
       "  </thead>\n",
       "  <tbody>\n",
       "    <tr>\n",
       "      <th>0</th>\n",
       "      <td>100 Grand</td>\n",
       "      <td>Yes</td>\n",
       "      <td>No</td>\n",
       "      <td>Yes</td>\n",
       "      <td>No</td>\n",
       "      <td>No</td>\n",
       "      <td>Yes</td>\n",
       "      <td>No</td>\n",
       "      <td>Yes</td>\n",
       "      <td>No</td>\n",
       "      <td>0.732</td>\n",
       "      <td>0.860</td>\n",
       "      <td>66.971725</td>\n",
       "    </tr>\n",
       "    <tr>\n",
       "      <th>1</th>\n",
       "      <td>3 Musketeers</td>\n",
       "      <td>Yes</td>\n",
       "      <td>No</td>\n",
       "      <td>No</td>\n",
       "      <td>No</td>\n",
       "      <td>Yes</td>\n",
       "      <td>No</td>\n",
       "      <td>No</td>\n",
       "      <td>Yes</td>\n",
       "      <td>No</td>\n",
       "      <td>0.604</td>\n",
       "      <td>0.511</td>\n",
       "      <td>67.602936</td>\n",
       "    </tr>\n",
       "    <tr>\n",
       "      <th>2</th>\n",
       "      <td>Air Heads</td>\n",
       "      <td>No</td>\n",
       "      <td>Yes</td>\n",
       "      <td>No</td>\n",
       "      <td>No</td>\n",
       "      <td>No</td>\n",
       "      <td>No</td>\n",
       "      <td>No</td>\n",
       "      <td>No</td>\n",
       "      <td>No</td>\n",
       "      <td>0.906</td>\n",
       "      <td>0.511</td>\n",
       "      <td>52.341465</td>\n",
       "    </tr>\n",
       "    <tr>\n",
       "      <th>3</th>\n",
       "      <td>Almond Joy</td>\n",
       "      <td>Yes</td>\n",
       "      <td>No</td>\n",
       "      <td>No</td>\n",
       "      <td>Yes</td>\n",
       "      <td>No</td>\n",
       "      <td>No</td>\n",
       "      <td>No</td>\n",
       "      <td>Yes</td>\n",
       "      <td>No</td>\n",
       "      <td>0.465</td>\n",
       "      <td>0.767</td>\n",
       "      <td>50.347546</td>\n",
       "    </tr>\n",
       "    <tr>\n",
       "      <th>4</th>\n",
       "      <td>Baby Ruth</td>\n",
       "      <td>Yes</td>\n",
       "      <td>No</td>\n",
       "      <td>Yes</td>\n",
       "      <td>Yes</td>\n",
       "      <td>Yes</td>\n",
       "      <td>No</td>\n",
       "      <td>No</td>\n",
       "      <td>Yes</td>\n",
       "      <td>No</td>\n",
       "      <td>0.604</td>\n",
       "      <td>0.767</td>\n",
       "      <td>56.914547</td>\n",
       "    </tr>\n",
       "  </tbody>\n",
       "</table>\n",
       "</div>"
      ],
      "text/plain": [
       "   competitorname chocolate fruity caramel peanutyalmondy nougat  \\\n",
       "id                                                                 \n",
       "0       100 Grand       Yes     No     Yes             No     No   \n",
       "1    3 Musketeers       Yes     No      No             No    Yes   \n",
       "2       Air Heads        No    Yes      No             No     No   \n",
       "3      Almond Joy       Yes     No      No            Yes     No   \n",
       "4       Baby Ruth       Yes     No     Yes            Yes    Yes   \n",
       "\n",
       "   crispedricewafer hard  bar pluribus  sugarpercent  pricepercent  winpercent  \n",
       "id                                                                              \n",
       "0               Yes   No  Yes       No         0.732         0.860   66.971725  \n",
       "1                No   No  Yes       No         0.604         0.511   67.602936  \n",
       "2                No   No   No       No         0.906         0.511   52.341465  \n",
       "3                No   No  Yes       No         0.465         0.767   50.347546  \n",
       "4                No   No  Yes       No         0.604         0.767   56.914547  "
      ]
     },
     "execution_count": 5,
     "metadata": {},
     "output_type": "execute_result"
    }
   ],
   "source": [
    "# Print the first five rows of the data\n",
    "candy_data.head(5) # Your code here"
   ]
  },
  {
   "cell_type": "markdown",
   "id": "c27c85f0",
   "metadata": {
    "papermill": {
     "duration": 0.009027,
     "end_time": "2022-10-15T09:43:57.113972",
     "exception": false,
     "start_time": "2022-10-15T09:43:57.104945",
     "status": "completed"
    },
    "tags": []
   },
   "source": [
    "The dataset contains 83 rows, where each corresponds to a different candy bar.  There are 13 columns:\n",
    "- `'competitorname'` contains the name of the candy bar. \n",
    "- the next **9** columns (from `'chocolate'` to `'pluribus'`) describe the candy.  For instance, rows with chocolate candies have `\"Yes\"` in the `'chocolate'` column (and candies without chocolate have `\"No\"` in the same column).\n",
    "- `'sugarpercent'` provides some indication of the amount of sugar, where higher values signify higher sugar content.\n",
    "- `'pricepercent'` shows the price per unit, relative to the other candies in the dataset.\n",
    "- `'winpercent'` is calculated from the survey results; higher values indicate that the candy was more popular with survey respondents.\n",
    "\n",
    "Use the first five rows of the data to answer the questions below."
   ]
  },
  {
   "cell_type": "code",
   "execution_count": 6,
   "id": "a45e6548",
   "metadata": {
    "execution": {
     "iopub.execute_input": "2022-10-15T09:43:57.134013Z",
     "iopub.status.busy": "2022-10-15T09:43:57.133624Z",
     "iopub.status.idle": "2022-10-15T09:43:57.143417Z",
     "shell.execute_reply": "2022-10-15T09:43:57.142289Z"
    },
    "papermill": {
     "duration": 0.022444,
     "end_time": "2022-10-15T09:43:57.145544",
     "exception": false,
     "start_time": "2022-10-15T09:43:57.123100",
     "status": "completed"
    },
    "tags": []
   },
   "outputs": [
    {
     "data": {
      "application/javascript": [
       "parent.postMessage({\"jupyterEvent\": \"custom.exercise_interaction\", \"data\": {\"outcomeType\": 1, \"valueTowardsCompletion\": 0.3333333333333333, \"interactionType\": 1, \"questionType\": 1, \"questionId\": \"2_ReviewData\", \"learnToolsVersion\": \"0.3.4\", \"failureMessage\": \"\", \"exceptionClass\": \"\", \"trace\": \"\"}}, \"*\")"
      ],
      "text/plain": [
       "<IPython.core.display.Javascript object>"
      ]
     },
     "metadata": {},
     "output_type": "display_data"
    },
    {
     "data": {
      "text/markdown": [
       "<span style=\"color:#33cc33\">Correct</span>"
      ],
      "text/plain": [
       "Correct"
      ]
     },
     "metadata": {},
     "output_type": "display_data"
    }
   ],
   "source": [
    "# Fill in the line below: Which candy was more popular with survey respondents:\n",
    "# '3 Musketeers' or 'Almond Joy'?  (Please enclose your answer in single quotes.)\n",
    "more_popular = '3 Musketeers'\n",
    "\n",
    "# Fill in the line below: Which candy has higher sugar content: 'Air Heads'\n",
    "# or 'Baby Ruth'? (Please enclose your answer in single quotes.)\n",
    "more_sugar = 'Air Heads'\n",
    "\n",
    "# Check your answers\n",
    "step_2.check()"
   ]
  },
  {
   "cell_type": "code",
   "execution_count": 7,
   "id": "cf6813b2",
   "metadata": {
    "execution": {
     "iopub.execute_input": "2022-10-15T09:43:57.166415Z",
     "iopub.status.busy": "2022-10-15T09:43:57.165755Z",
     "iopub.status.idle": "2022-10-15T09:43:57.170044Z",
     "shell.execute_reply": "2022-10-15T09:43:57.169250Z"
    },
    "papermill": {
     "duration": 0.016967,
     "end_time": "2022-10-15T09:43:57.172105",
     "exception": false,
     "start_time": "2022-10-15T09:43:57.155138",
     "status": "completed"
    },
    "tags": []
   },
   "outputs": [],
   "source": [
    "# Lines below will give you a hint or solution code\n",
    "#step_2.hint()\n",
    "#step_2.solution()"
   ]
  },
  {
   "cell_type": "markdown",
   "id": "8a7ce097",
   "metadata": {
    "papermill": {
     "duration": 0.008935,
     "end_time": "2022-10-15T09:43:57.190292",
     "exception": false,
     "start_time": "2022-10-15T09:43:57.181357",
     "status": "completed"
    },
    "tags": []
   },
   "source": [
    "## Step 3: The role of sugar\n",
    "\n",
    "Do people tend to prefer candies with higher sugar content?  \n",
    "\n",
    "#### Part A\n",
    "\n",
    "Create a scatter plot that shows the relationship between `'sugarpercent'` (on the horizontal x-axis) and `'winpercent'` (on the vertical y-axis).  _Don't add a regression line just yet -- you'll do that in the next step!_"
   ]
  },
  {
   "cell_type": "code",
   "execution_count": 8,
   "id": "ef3875be",
   "metadata": {
    "execution": {
     "iopub.execute_input": "2022-10-15T09:43:57.211341Z",
     "iopub.status.busy": "2022-10-15T09:43:57.210681Z",
     "iopub.status.idle": "2022-10-15T09:43:57.447466Z",
     "shell.execute_reply": "2022-10-15T09:43:57.446299Z"
    },
    "papermill": {
     "duration": 0.252016,
     "end_time": "2022-10-15T09:43:57.451590",
     "exception": false,
     "start_time": "2022-10-15T09:43:57.199574",
     "status": "completed"
    },
    "tags": []
   },
   "outputs": [
    {
     "data": {
      "application/javascript": [
       "parent.postMessage({\"jupyterEvent\": \"custom.exercise_interaction\", \"data\": {\"outcomeType\": 1, \"valueTowardsCompletion\": 0.3333333333333333, \"interactionType\": 1, \"questionType\": 2, \"questionId\": \"3.1_PlotBlueScatter\", \"learnToolsVersion\": \"0.3.4\", \"failureMessage\": \"\", \"exceptionClass\": \"\", \"trace\": \"\"}}, \"*\")"
      ],
      "text/plain": [
       "<IPython.core.display.Javascript object>"
      ]
     },
     "metadata": {},
     "output_type": "display_data"
    },
    {
     "data": {
      "text/markdown": [
       "<span style=\"color:#33cc33\">Correct</span>"
      ],
      "text/plain": [
       "Correct"
      ]
     },
     "metadata": {},
     "output_type": "display_data"
    },
    {
     "data": {
      "image/png": "[encoded data removed]",
      "text/plain": [
       "<Figure size 432x288 with 1 Axes>"
      ]
     },
     "metadata": {
      "needs_background": "light"
     },
     "output_type": "display_data"
    }
   ],
   "source": [
    "# Scatter plot showing the relationship between 'sugarpercent' and 'winpercent'\n",
    "____ # Your code here\n",
    "sns.scatterplot(x=candy_data['sugarpercent'], y=candy_data['winpercent'])\n",
    "# Check your answer\n",
    "step_3.a.check()"
   ]
  },
  {
   "cell_type": "code",
   "execution_count": 9,
   "id": "08840aa0",
   "metadata": {
    "execution": {
     "iopub.execute_input": "2022-10-15T09:43:57.483207Z",
     "iopub.status.busy": "2022-10-15T09:43:57.482241Z",
     "iopub.status.idle": "2022-10-15T09:43:57.486593Z",
     "shell.execute_reply": "2022-10-15T09:43:57.485850Z"
    },
    "papermill": {
     "duration": 0.023803,
     "end_time": "2022-10-15T09:43:57.488631",
     "exception": false,
     "start_time": "2022-10-15T09:43:57.464828",
     "status": "completed"
    },
    "tags": []
   },
   "outputs": [],
   "source": [
    "# Lines below will give you a hint or solution code\n",
    "#step_3.a.hint()\n",
    "#step_3.a.solution_plot()"
   ]
  },
  {
   "cell_type": "markdown",
   "id": "d43d932f",
   "metadata": {
    "papermill": {
     "duration": 0.009444,
     "end_time": "2022-10-15T09:43:57.507936",
     "exception": false,
     "start_time": "2022-10-15T09:43:57.498492",
     "status": "completed"
    },
    "tags": []
   },
   "source": [
    "#### Part B\n",
    "\n",
    "Does the scatter plot show a **strong** correlation between the two variables?  If so, are candies with more sugar relatively more or less popular with the survey respondents?"
   ]
  },
  {
   "cell_type": "code",
   "execution_count": 10,
   "id": "c0cc4451",
   "metadata": {
    "execution": {
     "iopub.execute_input": "2022-10-15T09:43:57.529521Z",
     "iopub.status.busy": "2022-10-15T09:43:57.528673Z",
     "iopub.status.idle": "2022-10-15T09:43:57.533551Z",
     "shell.execute_reply": "2022-10-15T09:43:57.532745Z"
    },
    "papermill": {
     "duration": 0.018017,
     "end_time": "2022-10-15T09:43:57.535781",
     "exception": false,
     "start_time": "2022-10-15T09:43:57.517764",
     "status": "completed"
    },
    "tags": []
   },
   "outputs": [],
   "source": [
    "#step_3.b.hint()"
   ]
  },
  {
   "cell_type": "code",
   "execution_count": 11,
   "id": "6417514d",
   "metadata": {
    "execution": {
     "iopub.execute_input": "2022-10-15T09:43:57.557182Z",
     "iopub.status.busy": "2022-10-15T09:43:57.556783Z",
     "iopub.status.idle": "2022-10-15T09:43:57.565356Z",
     "shell.execute_reply": "2022-10-15T09:43:57.564116Z"
    },
    "papermill": {
     "duration": 0.021701,
     "end_time": "2022-10-15T09:43:57.567623",
     "exception": false,
     "start_time": "2022-10-15T09:43:57.545922",
     "status": "completed"
    },
    "tags": []
   },
   "outputs": [
    {
     "data": {
      "application/javascript": [
       "parent.postMessage({\"jupyterEvent\": \"custom.exercise_interaction\", \"data\": {\"interactionType\": 3, \"questionType\": 4, \"questionId\": \"3.2_ThinkBlueScatter\", \"learnToolsVersion\": \"0.3.4\", \"valueTowardsCompletion\": 0.0, \"failureMessage\": \"\", \"exceptionClass\": \"\", \"trace\": \"\", \"outcomeType\": 4}}, \"*\")"
      ],
      "text/plain": [
       "<IPython.core.display.Javascript object>"
      ]
     },
     "metadata": {},
     "output_type": "display_data"
    },
    {
     "data": {
      "text/markdown": [
       "<span style=\"color:#33cc99\">Solution:</span> The scatter plot does not show a strong correlation between the two variables. Since there is no clear relationship between the two variables, this tells us that sugar content does not play a strong role in candy popularity."
      ],
      "text/plain": [
       "Solution: The scatter plot does not show a strong correlation between the two variables. Since there is no clear relationship between the two variables, this tells us that sugar content does not play a strong role in candy popularity."
      ]
     },
     "metadata": {},
     "output_type": "display_data"
    }
   ],
   "source": [
    "# Check your answer (Run this code cell to receive credit!)\n",
    "step_3.b.solution()"
   ]
  },
  {
   "cell_type": "markdown",
   "id": "4c05acd2",
   "metadata": {
    "papermill": {
     "duration": 0.009898,
     "end_time": "2022-10-15T09:43:57.587686",
     "exception": false,
     "start_time": "2022-10-15T09:43:57.577788",
     "status": "completed"
    },
    "tags": []
   },
   "source": [
    "## Step 4: Take a closer look\n",
    "\n",
    "#### Part A\n",
    "\n",
    "Create the same scatter plot you created in **Step 3**, but now with a regression line!"
   ]
  },
  {
   "cell_type": "code",
   "execution_count": 12,
   "id": "71c30fc1",
   "metadata": {
    "execution": {
     "iopub.execute_input": "2022-10-15T09:43:57.609715Z",
     "iopub.status.busy": "2022-10-15T09:43:57.609337Z",
     "iopub.status.idle": "2022-10-15T09:43:57.905322Z",
     "shell.execute_reply": "2022-10-15T09:43:57.904137Z"
    },
    "papermill": {
     "duration": 0.309839,
     "end_time": "2022-10-15T09:43:57.907831",
     "exception": false,
     "start_time": "2022-10-15T09:43:57.597992",
     "status": "completed"
    },
    "tags": []
   },
   "outputs": [
    {
     "data": {
      "application/javascript": [
       "parent.postMessage({\"jupyterEvent\": \"custom.exercise_interaction\", \"data\": {\"outcomeType\": 1, \"valueTowardsCompletion\": 0.3333333333333333, \"interactionType\": 1, \"questionType\": 2, \"questionId\": \"4.1_PlotBlueReg\", \"learnToolsVersion\": \"0.3.4\", \"failureMessage\": \"\", \"exceptionClass\": \"\", \"trace\": \"\"}}, \"*\")"
      ],
      "text/plain": [
       "<IPython.core.display.Javascript object>"
      ]
     },
     "metadata": {},
     "output_type": "display_data"
    },
    {
     "data": {
      "text/markdown": [
       "<span style=\"color:#33cc33\">Correct</span>"
      ],
      "text/plain": [
       "Correct"
      ]
     },
     "metadata": {},
     "output_type": "display_data"
    },
    {
     "data": {
      "image/png": "[encoded data removed]",
      "text/plain": [
       "<Figure size 432x288 with 1 Axes>"
      ]
     },
     "metadata": {
      "needs_background": "light"
     },
     "output_type": "display_data"
    }
   ],
   "source": [
    "# Scatter plot w/ regression line showing the relationship between 'sugarpercent' and 'winpercent'\n",
    "____ # Your code here\n",
    "sns.regplot(x=candy_data['sugarpercent'], y=candy_data['winpercent'])\n",
    "# Check your answer\n",
    "step_4.a.check()"
   ]
  },
  {
   "cell_type": "code",
   "execution_count": 13,
   "id": "e970c826",
   "metadata": {
    "execution": {
     "iopub.execute_input": "2022-10-15T09:43:57.932053Z",
     "iopub.status.busy": "2022-10-15T09:43:57.930689Z",
     "iopub.status.idle": "2022-10-15T09:43:57.936659Z",
     "shell.execute_reply": "2022-10-15T09:43:57.935363Z"
    },
    "papermill": {
     "duration": 0.020457,
     "end_time": "2022-10-15T09:43:57.939127",
     "exception": false,
     "start_time": "2022-10-15T09:43:57.918670",
     "status": "completed"
    },
    "tags": []
   },
   "outputs": [],
   "source": [
    "# Lines below will give you a hint or solution code\n",
    "#step_4.a.hint()\n",
    "#step_4.a.solution_plot()"
   ]
  },
  {
   "cell_type": "markdown",
   "id": "9e2be44e",
   "metadata": {
    "papermill": {
     "duration": 0.010468,
     "end_time": "2022-10-15T09:43:57.960475",
     "exception": false,
     "start_time": "2022-10-15T09:43:57.950007",
     "status": "completed"
    },
    "tags": []
   },
   "source": [
    "#### Part B\n",
    "\n",
    "According to the plot above, is there a **slight** correlation between `'winpercent'` and `'sugarpercent'`?  What does this tell you about the candy that people tend to prefer?"
   ]
  },
  {
   "cell_type": "code",
   "execution_count": 14,
   "id": "a15a8d4e",
   "metadata": {
    "execution": {
     "iopub.execute_input": "2022-10-15T09:43:57.984586Z",
     "iopub.status.busy": "2022-10-15T09:43:57.983391Z",
     "iopub.status.idle": "2022-10-15T09:43:57.988374Z",
     "shell.execute_reply": "2022-10-15T09:43:57.987658Z"
    },
    "papermill": {
     "duration": 0.019263,
     "end_time": "2022-10-15T09:43:57.990500",
     "exception": false,
     "start_time": "2022-10-15T09:43:57.971237",
     "status": "completed"
    },
    "tags": []
   },
   "outputs": [],
   "source": [
    "#step_4.b.hint()"
   ]
  },
  {
   "cell_type": "code",
   "execution_count": 15,
   "id": "d01aeedf",
   "metadata": {
    "execution": {
     "iopub.execute_input": "2022-10-15T09:43:58.015178Z",
     "iopub.status.busy": "2022-10-15T09:43:58.013945Z",
     "iopub.status.idle": "2022-10-15T09:43:58.022897Z",
     "shell.execute_reply": "2022-10-15T09:43:58.022032Z"
    },
    "papermill": {
     "duration": 0.023773,
     "end_time": "2022-10-15T09:43:58.025050",
     "exception": false,
     "start_time": "2022-10-15T09:43:58.001277",
     "status": "completed"
    },
    "tags": []
   },
   "outputs": [
    {
     "data": {
      "application/javascript": [
       "parent.postMessage({\"jupyterEvent\": \"custom.exercise_interaction\", \"data\": {\"interactionType\": 3, \"questionType\": 4, \"questionId\": \"4.2_ThinkBlueReg\", \"learnToolsVersion\": \"0.3.4\", \"valueTowardsCompletion\": 0.0, \"failureMessage\": \"\", \"exceptionClass\": \"\", \"trace\": \"\", \"outcomeType\": 4}}, \"*\")"
      ],
      "text/plain": [
       "<IPython.core.display.Javascript object>"
      ]
     },
     "metadata": {},
     "output_type": "display_data"
    },
    {
     "data": {
      "text/markdown": [
       "<span style=\"color:#33cc99\">Solution:</span> Since the regression line has a slightly positive slope, this tells us that there is a slightly positive correlation between `'winpercent'` and `'sugarpercent'`. Thus, people have a slight preference for candies containing relatively more sugar."
      ],
      "text/plain": [
       "Solution: Since the regression line has a slightly positive slope, this tells us that there is a slightly positive correlation between `'winpercent'` and `'sugarpercent'`. Thus, people have a slight preference for candies containing relatively more sugar."
      ]
     },
     "metadata": {},
     "output_type": "display_data"
    }
   ],
   "source": [
    "# Check your answer (Run this code cell to receive credit!)\n",
    "step_4.b.solution()"
   ]
  },
  {
   "cell_type": "markdown",
   "id": "13a9c8ec",
   "metadata": {
    "papermill": {
     "duration": 0.010684,
     "end_time": "2022-10-15T09:43:58.046472",
     "exception": false,
     "start_time": "2022-10-15T09:43:58.035788",
     "status": "completed"
    },
    "tags": []
   },
   "source": [
    "## Step 5: Chocolate!\n",
    "\n",
    "In the code cell below, create a scatter plot to show the relationship between `'pricepercent'` (on the horizontal x-axis) and `'winpercent'` (on the vertical y-axis). Use the `'chocolate'` column to color-code the points.  _Don't add any regression lines just yet -- you'll do that in the next step!_"
   ]
  },
  {
   "cell_type": "code",
   "execution_count": 16,
   "id": "9c3e86ed",
   "metadata": {
    "execution": {
     "iopub.execute_input": "2022-10-15T09:43:58.070864Z",
     "iopub.status.busy": "2022-10-15T09:43:58.069959Z",
     "iopub.status.idle": "2022-10-15T09:43:58.360922Z",
     "shell.execute_reply": "2022-10-15T09:43:58.359677Z"
    },
    "papermill": {
     "duration": 0.306712,
     "end_time": "2022-10-15T09:43:58.364230",
     "exception": false,
     "start_time": "2022-10-15T09:43:58.057518",
     "status": "completed"
    },
    "tags": []
   },
   "outputs": [
    {
     "data": {
      "application/javascript": [
       "parent.postMessage({\"jupyterEvent\": \"custom.exercise_interaction\", \"data\": {\"outcomeType\": 1, \"valueTowardsCompletion\": 0.3333333333333333, \"interactionType\": 1, \"questionType\": 2, \"questionId\": \"5_ColorScatter\", \"learnToolsVersion\": \"0.3.4\", \"failureMessage\": \"\", \"exceptionClass\": \"\", \"trace\": \"\"}}, \"*\")"
      ],
      "text/plain": [
       "<IPython.core.display.Javascript object>"
      ]
     },
     "metadata": {},
     "output_type": "display_data"
    },
    {
     "data": {
      "text/markdown": [
       "<span style=\"color:#33cc33\">Correct</span>"
      ],
      "text/plain": [
       "Correct"
      ]
     },
     "metadata": {},
     "output_type": "display_data"
    },
    {
     "data": {
      "image/png": "[encoded data removed]",
      "text/plain": [
       "<Figure size 432x288 with 1 Axes>"
      ]
     },
     "metadata": {
      "needs_background": "light"
     },
     "output_type": "display_data"
    }
   ],
   "source": [
    "# Scatter plot showing the relationship between 'pricepercent', 'winpercent', and 'chocolate'\n",
    "____ # Your code here\n",
    "sns.scatterplot(x=candy_data['pricepercent'], y=candy_data['winpercent'], hue=candy_data['chocolate'])\n",
    "# Check your answer\n",
    "step_5.check()"
   ]
  },
  {
   "cell_type": "code",
   "execution_count": 17,
   "id": "86fcfe15",
   "metadata": {
    "execution": {
     "iopub.execute_input": "2022-10-15T09:43:58.390104Z",
     "iopub.status.busy": "2022-10-15T09:43:58.389716Z",
     "iopub.status.idle": "2022-10-15T09:43:58.394010Z",
     "shell.execute_reply": "2022-10-15T09:43:58.392860Z"
    },
    "papermill": {
     "duration": 0.019486,
     "end_time": "2022-10-15T09:43:58.396154",
     "exception": false,
     "start_time": "2022-10-15T09:43:58.376668",
     "status": "completed"
    },
    "tags": []
   },
   "outputs": [],
   "source": [
    "# Lines below will give you a hint or solution code\n",
    "#step_5.hint()\n",
    "#step_5.solution_plot()"
   ]
  },
  {
   "cell_type": "markdown",
   "id": "e6f0ed80",
   "metadata": {
    "papermill": {
     "duration": 0.011478,
     "end_time": "2022-10-15T09:43:58.421504",
     "exception": false,
     "start_time": "2022-10-15T09:43:58.410026",
     "status": "completed"
    },
    "tags": []
   },
   "source": [
    "Can you see any interesting patterns in the scatter plot?  We'll investigate this plot further  by adding regression lines in the next step!\n",
    "\n",
    "## Step 6: Investigate chocolate\n",
    "\n",
    "#### Part A\n",
    "\n",
    "Create the same scatter plot you created in **Step 5**, but now with two regression lines, corresponding to (1) chocolate candies and (2) candies without chocolate."
   ]
  },
  {
   "cell_type": "code",
   "execution_count": 18,
   "id": "51e6dbc4",
   "metadata": {
    "execution": {
     "iopub.execute_input": "2022-10-15T09:43:58.446660Z",
     "iopub.status.busy": "2022-10-15T09:43:58.446276Z",
     "iopub.status.idle": "2022-10-15T09:43:58.999062Z",
     "shell.execute_reply": "2022-10-15T09:43:58.997972Z"
    },
    "papermill": {
     "duration": 0.568349,
     "end_time": "2022-10-15T09:43:59.001541",
     "exception": false,
     "start_time": "2022-10-15T09:43:58.433192",
     "status": "completed"
    },
    "tags": []
   },
   "outputs": [
    {
     "data": {
      "application/javascript": [
       "parent.postMessage({\"jupyterEvent\": \"custom.exercise_interaction\", \"data\": {\"outcomeType\": 1, \"valueTowardsCompletion\": 0.3333333333333333, \"interactionType\": 1, \"questionType\": 2, \"questionId\": \"6.1_PlotColorReg\", \"learnToolsVersion\": \"0.3.4\", \"failureMessage\": \"\", \"exceptionClass\": \"\", \"trace\": \"\"}}, \"*\")"
      ],
      "text/plain": [
       "<IPython.core.display.Javascript object>"
      ]
     },
     "metadata": {},
     "output_type": "display_data"
    },
    {
     "data": {
      "text/markdown": [
       "<span style=\"color:#33cc33\">Correct</span>"
      ],
      "text/plain": [
       "Correct"
      ]
     },
     "metadata": {},
     "output_type": "display_data"
    },
    {
     "data": {
      "image/png": "[encoded data removed]",
      "text/plain": [
       "<Figure size 416.375x360 with 1 Axes>"
      ]
     },
     "metadata": {
      "needs_background": "light"
     },
     "output_type": "display_data"
    }
   ],
   "source": [
    "# Color-coded scatter plot w/ regression lines\n",
    "____ # Your code here\n",
    "sns.lmplot(x=\"pricepercent\", y=\"winpercent\", hue=\"chocolate\", data=candy_data)\n",
    "# Check your answer\n",
    "step_6.a.check()"
   ]
  },
  {
   "cell_type": "code",
   "execution_count": 19,
   "id": "0e337196",
   "metadata": {
    "execution": {
     "iopub.execute_input": "2022-10-15T09:43:59.027989Z",
     "iopub.status.busy": "2022-10-15T09:43:59.027581Z",
     "iopub.status.idle": "2022-10-15T09:43:59.032171Z",
     "shell.execute_reply": "2022-10-15T09:43:59.031015Z"
    },
    "papermill": {
     "duration": 0.020448,
     "end_time": "2022-10-15T09:43:59.034548",
     "exception": false,
     "start_time": "2022-10-15T09:43:59.014100",
     "status": "completed"
    },
    "tags": []
   },
   "outputs": [],
   "source": [
    "# Lines below will give you a hint or solution code\n",
    "#step_6.a.hint()\n",
    "#step_6.a.solution_plot()"
   ]
  },
  {
   "cell_type": "markdown",
   "id": "bf1ddd35",
   "metadata": {
    "papermill": {
     "duration": 0.011697,
     "end_time": "2022-10-15T09:43:59.058352",
     "exception": false,
     "start_time": "2022-10-15T09:43:59.046655",
     "status": "completed"
    },
    "tags": []
   },
   "source": [
    "#### Part B\n",
    "\n",
    "Using the regression lines, what conclusions can you draw about the effects of chocolate and price on candy popularity?"
   ]
  },
  {
   "cell_type": "code",
   "execution_count": 20,
   "id": "e8363a1e",
   "metadata": {
    "execution": {
     "iopub.execute_input": "2022-10-15T09:43:59.084129Z",
     "iopub.status.busy": "2022-10-15T09:43:59.083695Z",
     "iopub.status.idle": "2022-10-15T09:43:59.088501Z",
     "shell.execute_reply": "2022-10-15T09:43:59.087319Z"
    },
    "papermill": {
     "duration": 0.020423,
     "end_time": "2022-10-15T09:43:59.090790",
     "exception": false,
     "start_time": "2022-10-15T09:43:59.070367",
     "status": "completed"
    },
    "tags": []
   },
   "outputs": [],
   "source": [
    "#step_6.b.hint()"
   ]
  },
  {
   "cell_type": "code",
   "execution_count": 21,
   "id": "24533e2a",
   "metadata": {
    "execution": {
     "iopub.execute_input": "2022-10-15T09:43:59.117924Z",
     "iopub.status.busy": "2022-10-15T09:43:59.116838Z",
     "iopub.status.idle": "2022-10-15T09:43:59.124492Z",
     "shell.execute_reply": "2022-10-15T09:43:59.123295Z"
    },
    "papermill": {
     "duration": 0.02369,
     "end_time": "2022-10-15T09:43:59.126918",
     "exception": false,
     "start_time": "2022-10-15T09:43:59.103228",
     "status": "completed"
    },
    "tags": []
   },
   "outputs": [
    {
     "data": {
      "application/javascript": [
       "parent.postMessage({\"jupyterEvent\": \"custom.exercise_interaction\", \"data\": {\"interactionType\": 3, \"questionType\": 4, \"questionId\": \"6.2_ThinkColorReg\", \"learnToolsVersion\": \"0.3.4\", \"valueTowardsCompletion\": 0.0, \"failureMessage\": \"\", \"exceptionClass\": \"\", \"trace\": \"\", \"outcomeType\": 4}}, \"*\")"
      ],
      "text/plain": [
       "<IPython.core.display.Javascript object>"
      ]
     },
     "metadata": {},
     "output_type": "display_data"
    },
    {
     "data": {
      "text/markdown": [
       "<span style=\"color:#33cc99\">Solution:</span> We'll begin with the regression line for chocolate candies. Since this line has a slightly positive slope, we can say that more expensive chocolate candies tend to be more popular (than relatively cheaper chocolate candies).  Likewise, since the regression line for candies without chocolate has a negative slope, we can say that if candies don't contain chocolate, they tend to be more popular when they are cheaper.  One important note, however, is that the dataset is quite small -- so we shouldn't invest too much trust in these patterns!  To inspire more confidence in the results, we should add more candies to the dataset."
      ],
      "text/plain": [
       "Solution: We'll begin with the regression line for chocolate candies. Since this line has a slightly positive slope, we can say that more expensive chocolate candies tend to be more popular (than relatively cheaper chocolate candies).  Likewise, since the regression line for candies without chocolate has a negative slope, we can say that if candies don't contain chocolate, they tend to be more popular when they are cheaper.  One important note, however, is that the dataset is quite small -- so we shouldn't invest too much trust in these patterns!  To inspire more confidence in the results, we should add more candies to the dataset."
      ]
     },
     "metadata": {},
     "output_type": "display_data"
    }
   ],
   "source": [
    "# Check your answer (Run this code cell to receive credit!)\n",
    "step_6.b.solution()"
   ]
  },
  {
   "cell_type": "markdown",
   "id": "fddd728c",
   "metadata": {
    "papermill": {
     "duration": 0.012009,
     "end_time": "2022-10-15T09:43:59.152159",
     "exception": false,
     "start_time": "2022-10-15T09:43:59.140150",
     "status": "completed"
    },
    "tags": []
   },
   "source": [
    "## Step 7: Everybody loves chocolate.\n",
    "\n",
    "#### Part A\n",
    "\n",
    "Create a categorical scatter plot to highlight the relationship between `'chocolate'` and `'winpercent'`.  Put `'chocolate'` on the (horizontal) x-axis, and `'winpercent'` on the (vertical) y-axis."
   ]
  },
  {
   "cell_type": "code",
   "execution_count": 22,
   "id": "dd6c3c11",
   "metadata": {
    "execution": {
     "iopub.execute_input": "2022-10-15T09:43:59.178615Z",
     "iopub.status.busy": "2022-10-15T09:43:59.178233Z",
     "iopub.status.idle": "2022-10-15T09:43:59.396174Z",
     "shell.execute_reply": "2022-10-15T09:43:59.395103Z"
    },
    "papermill": {
     "duration": 0.234045,
     "end_time": "2022-10-15T09:43:59.398638",
     "exception": false,
     "start_time": "2022-10-15T09:43:59.164593",
     "status": "completed"
    },
    "tags": []
   },
   "outputs": [
    {
     "data": {
      "application/javascript": [
       "parent.postMessage({\"jupyterEvent\": \"custom.exercise_interaction\", \"data\": {\"outcomeType\": 1, \"valueTowardsCompletion\": 0.3333333333333333, \"interactionType\": 1, \"questionType\": 2, \"questionId\": \"7.1_PlotSwarm\", \"learnToolsVersion\": \"0.3.4\", \"failureMessage\": \"\", \"exceptionClass\": \"\", \"trace\": \"\"}}, \"*\")"
      ],
      "text/plain": [
       "<IPython.core.display.Javascript object>"
      ]
     },
     "metadata": {},
     "output_type": "display_data"
    },
    {
     "data": {
      "text/markdown": [
       "<span style=\"color:#33cc33\">Correct</span>"
      ],
      "text/plain": [
       "Correct"
      ]
     },
     "metadata": {},
     "output_type": "display_data"
    },
    {
     "data": {
      "image/png": "[encoded data removed]",
      "text/plain": [
       "<Figure size 432x288 with 1 Axes>"
      ]
     },
     "metadata": {
      "needs_background": "light"
     },
     "output_type": "display_data"
    }
   ],
   "source": [
    "# Scatter plot showing the relationship between 'chocolate' and 'winpercent'\n",
    "____ # Your code here\n",
    "sns.swarmplot(x=candy_data['chocolate'], y=candy_data['winpercent'])\n",
    "# Check your answer\n",
    "step_7.a.check()"
   ]
  },
  {
   "cell_type": "code",
   "execution_count": 23,
   "id": "47e4f88f",
   "metadata": {
    "execution": {
     "iopub.execute_input": "2022-10-15T09:43:59.438195Z",
     "iopub.status.busy": "2022-10-15T09:43:59.437549Z",
     "iopub.status.idle": "2022-10-15T09:43:59.444091Z",
     "shell.execute_reply": "2022-10-15T09:43:59.442488Z"
    },
    "papermill": {
     "duration": 0.029921,
     "end_time": "2022-10-15T09:43:59.446765",
     "exception": false,
     "start_time": "2022-10-15T09:43:59.416844",
     "status": "completed"
    },
    "tags": []
   },
   "outputs": [],
   "source": [
    "# Lines below will give you a hint or solution code\n",
    "#step_7.a.hint()\n",
    "#step_7.a.solution_plot()"
   ]
  },
  {
   "cell_type": "markdown",
   "id": "34b971eb",
   "metadata": {
    "papermill": {
     "duration": 0.013898,
     "end_time": "2022-10-15T09:43:59.477684",
     "exception": false,
     "start_time": "2022-10-15T09:43:59.463786",
     "status": "completed"
    },
    "tags": []
   },
   "source": [
    "#### Part B\n",
    "\n",
    "You decide to dedicate a section of your report to the fact that chocolate candies tend to be more popular than candies without chocolate.  Which plot is more appropriate to tell this story: the plot from **Step 6**, or the plot from **Step 7**?"
   ]
  },
  {
   "cell_type": "code",
   "execution_count": 24,
   "id": "9c216835",
   "metadata": {
    "execution": {
     "iopub.execute_input": "2022-10-15T09:43:59.513635Z",
     "iopub.status.busy": "2022-10-15T09:43:59.512398Z",
     "iopub.status.idle": "2022-10-15T09:43:59.517653Z",
     "shell.execute_reply": "2022-10-15T09:43:59.516828Z"
    },
    "papermill": {
     "duration": 0.025796,
     "end_time": "2022-10-15T09:43:59.519952",
     "exception": false,
     "start_time": "2022-10-15T09:43:59.494156",
     "status": "completed"
    },
    "tags": []
   },
   "outputs": [],
   "source": [
    "#step_7.b.hint()"
   ]
  },
  {
   "cell_type": "code",
   "execution_count": 25,
   "id": "ec09bb0e",
   "metadata": {
    "execution": {
     "iopub.execute_input": "2022-10-15T09:43:59.548365Z",
     "iopub.status.busy": "2022-10-15T09:43:59.547580Z",
     "iopub.status.idle": "2022-10-15T09:43:59.557006Z",
     "shell.execute_reply": "2022-10-15T09:43:59.556158Z"
    },
    "papermill": {
     "duration": 0.02606,
     "end_time": "2022-10-15T09:43:59.559288",
     "exception": false,
     "start_time": "2022-10-15T09:43:59.533228",
     "status": "completed"
    },
    "tags": []
   },
   "outputs": [
    {
     "data": {
      "application/javascript": [
       "parent.postMessage({\"jupyterEvent\": \"custom.exercise_interaction\", \"data\": {\"interactionType\": 3, \"questionType\": 4, \"questionId\": \"7.2_ThinkSwarm\", \"learnToolsVersion\": \"0.3.4\", \"valueTowardsCompletion\": 0.0, \"failureMessage\": \"\", \"exceptionClass\": \"\", \"trace\": \"\", \"outcomeType\": 4}}, \"*\")"
      ],
      "text/plain": [
       "<IPython.core.display.Javascript object>"
      ]
     },
     "metadata": {},
     "output_type": "display_data"
    },
    {
     "data": {
      "text/markdown": [
       "<span style=\"color:#33cc99\">Solution:</span> In this case, the categorical scatter plot from **Step 7** is the more appropriate plot. While both plots tell the desired story, the plot from **Step 6** conveys far more information that could distract from the main point."
      ],
      "text/plain": [
       "Solution: In this case, the categorical scatter plot from **Step 7** is the more appropriate plot. While both plots tell the desired story, the plot from **Step 6** conveys far more information that could distract from the main point."
      ]
     },
     "metadata": {},
     "output_type": "display_data"
    }
   ],
   "source": [
    "# Check your answer (Run this code cell to receive credit!)\n",
    "step_7.b.solution()"
   ]
  },
  {
   "cell_type": "markdown",
   "id": "75b27eb8",
   "metadata": {
    "papermill": {
     "duration": 0.012904,
     "end_time": "2022-10-15T09:43:59.585748",
     "exception": false,
     "start_time": "2022-10-15T09:43:59.572844",
     "status": "completed"
    },
    "tags": []
   },
   "source": [
    "## Keep going\n",
    "\n",
    "Explore **[histograms and density plots](https://www.kaggle.com/alexisbcook/distributions)**."
   ]
  },
  {
   "cell_type": "markdown",
   "id": "19ce26a1",
   "metadata": {
    "papermill": {
     "duration": 0.012695,
     "end_time": "2022-10-15T09:43:59.611750",
     "exception": false,
     "start_time": "2022-10-15T09:43:59.599055",
     "status": "completed"
    },
    "tags": []
   },
   "source": [
    "---\n",
    "\n",
    "\n",
    "\n",
    "\n",
    "*Have questions or comments? Visit the [course discussion forum](https://www.kaggle.com/learn/data-visualization/discussion) to chat with other learners.*"
   ]
  }
 ],
 "metadata": {
  "kernelspec": {
   "display_name": "Python 3",
   "language": "python",
   "name": "python3"
  },
  "language_info": {
   "codemirror_mode": {
    "name": "ipython",
    "version": 3
   },
   "file_extension": ".py",
   "mimetype": "text/x-python",
   "name": "python",
   "nbconvert_exporter": "python",
   "pygments_lexer": "ipython3",
   "version": "3.7.12"
  },
  "papermill": {
   "default_parameters": {},
   "duration": 13.043636,
   "end_time": "2022-10-15T09:44:00.346857",
   "environment_variables": {},
   "exception": null,
   "input_path": "__notebook__.ipynb",
   "output_path": "__notebook__.ipynb",
   "parameters": {},
   "start_time": "2022-10-15T09:43:47.303221",
   "version": "2.3.4"
  }
 },
 "nbformat": 4,
 "nbformat_minor": 5
}
